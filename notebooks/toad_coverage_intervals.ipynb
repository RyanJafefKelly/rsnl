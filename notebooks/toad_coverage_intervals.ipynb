{
 "cells": [
  {
   "cell_type": "code",
   "execution_count": 1,
   "metadata": {},
   "outputs": [
    {
     "name": "stderr",
     "output_type": "stream",
     "text": [
      "/Users/ryankelly/python_projects/rsnl/.venv/lib/python3.11/site-packages/tqdm/auto.py:21: TqdmWarning: IProgress not found. Please update jupyter and ipywidgets. See https://ipywidgets.readthedocs.io/en/stable/user_install.html\n",
      "  from .autonotebook import tqdm as notebook_tqdm\n"
     ]
    }
   ],
   "source": [
    "import os\n",
    "import numpy as np\n",
    "import jax.numpy as jnp\n",
    "import jax.random as random\n",
    "from scipy.stats import gaussian_kde\n",
    "from rsnl.examples.toad import calculate_summary_statistics, dgp\n",
    "import matplotlib.pyplot as plt\n",
    "import pickle as pkl\n",
    "import arviz as az\n",
    "import matplotlib.colors as mcolors\n",
    "import pickle as pkl"
   ]
  },
  {
   "cell_type": "code",
   "execution_count": 2,
   "metadata": {},
   "outputs": [],
   "source": [
    "with open(\"../res/toad/rsnl/seed_0/thetas.pkl\", \"rb\") as f:\n",
    "    theta_draws_rsnl = jnp.array(pkl.load(f))\n",
    "\n",
    "thetas_rsnl = jnp.concatenate(theta_draws_rsnl, axis=0)\n",
    "thetas_rsnl = jnp.squeeze(thetas_rsnl)\n",
    "\n",
    "with open(\"../res/toad/rsnl/seed_0/adj_params.pkl\", \"rb\") as f:\n",
    "    adj_params = jnp.array(pkl.load(f))\n",
    "\n",
    "adj_params = jnp.concatenate(adj_params, axis=0)\n",
    "\n",
    "with open(\"../res/toad/snl/seed_0/thetas.pkl\", \"rb\") as f:\n",
    "    theta_draws_snl = jnp.array(pkl.load(f))\n",
    "\n",
    "thetas_snl = jnp.concatenate(theta_draws_snl, axis=0)\n",
    "thetas_snl = jnp.squeeze(thetas_snl)"
   ]
  },
  {
   "cell_type": "code",
   "execution_count": 3,
   "metadata": {},
   "outputs": [],
   "source": [
    "with open('../res/external_res/rnpe_toad_res.pkl', 'rb') as f:\n",
    "    res = pkl.load(f)\n",
    "\n",
    "import scipy.io\n",
    "thetas_rbsl = scipy.io.loadmat('../res/external_res/results_bsl_model2_realdata_mean_n500.mat')['theta']\n",
    "\n",
    "thetas_rnpe = res['posterior_samples']['RNPE']\n",
    "\n",
    "rnpe_theta_plot = {}\n",
    "rbsl_theta_plot = {}\n",
    "for i in range(3):\n",
    "    rnpe_theta_plot['theta' + str(i+1)] = thetas_rnpe[ :, 0, i]\n",
    "    rbsl_theta_plot['theta' + str(i+1)] = thetas_rbsl[ :, i]\n"
   ]
  },
  {
   "cell_type": "code",
   "execution_count": 8,
   "metadata": {},
   "outputs": [],
   "source": [
    "thetas_rnpe = np.squeeze(thetas_rnpe)"
   ]
  },
  {
   "cell_type": "code",
   "execution_count": 9,
   "metadata": {},
   "outputs": [
    {
     "name": "stdout",
     "output_type": "stream",
     "text": [
      "2.5: 1.2772988080978394, 97.5: 1.7669565677642822\n",
      "2.5: 35.208045959472656, 97.5: 47.343727111816406\n",
      "2.5: 0.6086136102676392, 97.5: 0.7607865929603577\n",
      "2.5: 1.634374976158142, 97.5: 1.9517958164215088\n",
      "2.5: 44.60655975341797, 97.5: 53.35704040527344\n",
      "2.5: 0.633031964302063, 97.5: 0.7370281219482422\n",
      "2.5: 1.282135009765625, 97.5: 1.837660312652588\n",
      "2.5: 31.453521728515625, 97.5: 48.67732238769531\n",
      "2.5: 0.5981687903404236, 97.5: 0.7967434525489807\n",
      "2.5: 1.3521898868635756, 97.5: 1.7953767366213962\n",
      "2.5: 34.66732548193474, 97.5: 47.47699188788783\n",
      "2.5: 0.5920824131158446, 97.5: 0.7278200709975572\n"
     ]
    }
   ],
   "source": [
    "methods_res = [thetas_rsnl, thetas_snl, thetas_rnpe, thetas_rbsl]\n",
    "\n",
    "for i, method_res in enumerate(methods_res):\n",
    "    for j in range(3):\n",
    "        theta_sorted = np.sort(method_res[:, j])\n",
    "        print(f\"2.5: {theta_sorted[int(0.025*len(theta_sorted))]}, 97.5: {theta_sorted[int(0.975*len(theta_sorted))]}\")"
   ]
  }
 ],
 "metadata": {
  "kernelspec": {
   "display_name": ".venv",
   "language": "python",
   "name": "python3"
  },
  "language_info": {
   "codemirror_mode": {
    "name": "ipython",
    "version": 3
   },
   "file_extension": ".py",
   "mimetype": "text/x-python",
   "name": "python",
   "nbconvert_exporter": "python",
   "pygments_lexer": "ipython3",
   "version": "3.11.7"
  }
 },
 "nbformat": 4,
 "nbformat_minor": 2
}
