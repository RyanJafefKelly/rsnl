{
 "cells": [
  {
   "cell_type": "code",
   "execution_count": null,
   "metadata": {},
   "outputs": [],
   "source": [
    "import os\n",
    "import numpy as np\n",
    "import jax.numpy as jnp\n",
    "import jax.random as random\n",
    "import matplotlib.pyplot as plt\n",
    "import pickle as pkl\n",
    "from rsnl.examples.sir import true_dgp\n",
    "from scipy.stats import gaussian_kde"
   ]
  },
  {
   "cell_type": "code",
   "execution_count": null,
   "metadata": {},
   "outputs": [],
   "source": [
    "# Set the default font to Times New Roman\n",
    "plt.rcParams['font.family'] = 'serif'\n",
    "plt.rcParams['font.serif'] = ['Times New Roman']\n",
    "# plt.rcParams['mathtext.fontset'] = 'cm'"
   ]
  },
  {
   "cell_type": "code",
   "execution_count": null,
   "metadata": {},
   "outputs": [],
   "source": [
    "rng_key = random.PRNGKey(0)\n",
    "\n",
    "true_params = jnp.array([.1, .15])  # NOTE: arranged [gamma, beta]\n",
    "rng_key, sub_key1, sub_key2 = random.split(rng_key, 3)\n",
    "\n",
    "# true_params = prior.sample(sub_key1)\n",
    "true_params = jnp.array([.1, .15])  # NOTE: arranged [gamma, beta]\n",
    "x_obs = true_dgp(sub_key2, *true_params)\n",
    "plt.rcParams.update({'font.size': 16})\n",
    "plt.plot(x_obs)\n",
    "plt.xticks([0, 167, 365])\n",
    "plt.yticks([0, 35000, 70000])\n",
    "plt.xlabel('Days')\n",
    "plt.ylabel('Number of infected')\n",
    "plt.xlim([0, 365])\n",
    "plt.ylim([0, 70000])\n",
    "plt.tight_layout()\n",
    "plt.savefig('visualise_observed_sir.pdf')"
   ]
  },
  {
   "cell_type": "code",
   "execution_count": null,
   "metadata": {},
   "outputs": [],
   "source": []
  }
 ],
 "metadata": {
  "kernelspec": {
   "display_name": ".venv",
   "language": "python",
   "name": "python3"
  },
  "language_info": {
   "codemirror_mode": {
    "name": "ipython",
    "version": 3
   },
   "file_extension": ".py",
   "mimetype": "text/x-python",
   "name": "python",
   "nbconvert_exporter": "python",
   "pygments_lexer": "ipython3",
   "version": "3.11.5"
  },
  "orig_nbformat": 4
 },
 "nbformat": 4,
 "nbformat_minor": 2
}
